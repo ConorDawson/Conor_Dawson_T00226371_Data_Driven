{
  "nbformat": 4,
  "nbformat_minor": 0,
  "metadata": {
    "colab": {
      "provenance": [],
      "toc_visible": true,
      "authorship_tag": "ABX9TyMbHpILiu5WP9Soz1+IQtwu",
      "include_colab_link": true
    },
    "kernelspec": {
      "name": "python3",
      "display_name": "Python 3"
    },
    "language_info": {
      "name": "python"
    }
  },
  "cells": [
    {
      "cell_type": "markdown",
      "metadata": {
        "id": "view-in-github",
        "colab_type": "text"
      },
      "source": [
        "<a href=\"https://colab.research.google.com/github/ConorDawson/Conor_Dawson_T00226371_Data_Driven/blob/main/Conor_Dawson_T00226371_Data_Driven_Project.ipynb\" target=\"_parent\"><img src=\"https://colab.research.google.com/assets/colab-badge.svg\" alt=\"Open In Colab\"/></a>"
      ]
    },
    {
      "cell_type": "markdown",
      "source": [
        "---\n",
        "# Goal of the Model\n",
        "The goal of this model is to predict the financial damage caused by earthquakes based on various geological and disaster-related factors. By merging earthquake data with disaster records, the model identifies key features such as magnitude, depth, location, and human impact (deaths and affected individuals) to understand their relationship with economic losses. Using Principal Component Analysis (PCA), the model reduces dimensionality while preserving essential patterns, ensuring a more efficient and interpretable dataset. A Random Forest Regressor is then trained to estimate total damage costs, with performance evaluated through metrics like RMSE, R² score, and MAE. This predictive approach aims to support disaster preparedness, risk assessment, and resource allocation by providing insights into the financial impact of earthquakes based on historical data.\n",
        "\n",
        "---\n",
        "# Dataset information\n",
        "Theres two datasets used  one sourced from Kaggle which coombines two datasets as they have the same columns but just have years seperated so the two datasets could easily be combined in to one csv file. The other data set was sourced from the public EM-DAT platform that lets a user use an api call to download disaster damage reports for multiple types of natural disasters.\n",
        "\n",
        "---\n",
        "# Data Sources\n",
        "\n",
        "***Earthquake Dataset Link:*** https://www.kaggle.com/datasets/warcoder/earthquake-dataset\n",
        "\n",
        "***Disaster Dataset Link:*** https://public.emdat.be/data\n",
        "\n",
        "---\n",
        "\n",
        "# Column Definitions\n",
        "**Dataset Name:**  earthquake_data.csv\n",
        "\n",
        "* **Columns in the Kaggle Earthquake Dataset:**\n",
        "  * **title:** title name given to the earthquake\n",
        "  * **magnitude:** The magnitude of the earthquake\n",
        "  * **date_time:** date and time\n",
        "  * **cdi:** The maximum reported intensity for the event range\n",
        "  * **mmi:** The maximum estimated instrumental intensity for the event\n",
        "  * **alert:** The alert level - “green”, “yellow”, “orange”, and “red”\n",
        "  * **tsunami:** \"1\" for events in oceanic regions and \"0\" otherwise\n",
        "  * sig: A number describing how significant the event is. Larger numbers   indicate a more significant event. This value is determined on a number of factors, including: magnitude, maximum MMI, felt reports, and estimated impact\n",
        "  * **net:** The ID of a data contributor. Identifies the network considered to be the preferred source of information for this event.\n",
        "  * nst: The total number of seismic stations used to determine earthquake location.\n",
        "  * **dmin:** Horizontal distance from the epicenter to the nearest station\n",
        "  * gap: The largest azimuthal gap between azimuthally adjacent stations (in degrees). In general, the smaller this number, the more reliable is the calculated horizontal position of the earthquake. Earthquake locations in which the azimuthal gap exceeds 180 degrees typically have large location and depth uncertainties\n",
        "  * **magType:** The method or algorithm used to calculate the preferred magnitude for the event\n",
        "  * **depth:** The depth where the earthquake begins to rupture\n",
        "  * **latitude / longitude:** coordinate system by means of which the position or location of any place on Earth's surface can be determined and described\n",
        "  * **location:** location within the country\n",
        "  * **continent:** continent of the earthquake hit country\n",
        "  * **country:** affected country\n",
        "---\n",
        "* **Columns in the EM-DAT Natural Disaster Dataset:**\n",
        "\n",
        "**Dataset Name:** public_emdat_custom_request_2025-03-21_e861b1e0-df2d-4878-8dfd-5e504fe9cd63.xlsx\n",
        "  * **DisNo.:** Unique disaster identification number.  \n",
        "  * **Historic:** Indicates whether the event is historical.  \n",
        "  * **Classification Key:** Internal classification reference for the disaster.  \n",
        "  * **Disaster Group:** Broad category of disaster (e.g., **Natural, Technological**).  \n",
        "  * **Disaster Subgroup:** More specific classification within the disaster group (e.g., **Geophysical, Hydrological**).  \n",
        "  * **Disaster Type:** The main type of disaster (e.g., **Earthquake, Flood, Cyclone**).  \n",
        "  * **Disaster Subtype:** A more detailed category within the disaster type (e.g., **Tsunami, Landslide**).  \n",
        "  * **External IDs:** Additional external reference identifiers.  \n",
        "  * **Event Name:** The name of the specific disaster event (if available).  \n",
        "  * **ISO:** The ISO country code where the disaster occurred.  \n",
        "  * **Country:** The full name of the country affected.  \n",
        "  * **Subregion:** The subregion within the affected country (e.g., **South Asia, Eastern Africa**).  \n",
        "  * **Region:** The broader geographical region (e.g., **Asia, Africa, Europe**).  \n",
        "  * **Location:** The specific location or city where the disaster occurred.  \n",
        "  * **Origin:** The originating cause of the disaster (if applicable).  \n",
        "  * **Associated Types:** Other disaster types linked to the main event (e.g., **Earthquake triggering a Tsunami**).  \n",
        "  * **OFDA/BHA Response:** Indicates if the **USAID Office of Foreign Disaster Assistance (OFDA)/Bureau for Humanitarian Assistance (BHA)** responded.  \n",
        "  * **Appeal:** Indicates whether an international appeal was launched for aid.  \n",
        "  * **Declaration:** Whether an official disaster declaration was made.  \n",
        "  * **AID Contribution ('000 US$):** The amount of aid provided (in thousands of US dollars).  \n",
        "\n",
        "  * **Magnitude:** The magnitude of the disaster (e.g., **earthquake magnitude, cyclone wind speed**).  \n",
        "  * **Magnitude Scale:** The unit used to measure magnitude (e.g., **Richter Scale, Saffir-Simpson Scale**).  \n",
        "  * **Latitude:** The latitude coordinate of the disaster location.  \n",
        "  * **Longitude:** The longitude coordinate of the disaster location.  \n",
        "  * **River Basin:** The river basin affected (if applicable).  \n",
        "  * **Start Year:** The year the disaster started.  \n",
        "  * **Start Month:** The month the disaster started.  \n",
        "  * **Start Day:** The day the disaster started.  \n",
        "  * **End Year:** The year the disaster ended.  \n",
        "  * **End Month:** The month the disaster ended.  \n",
        "  * **End Day:** The day the disaster ended.  \n",
        "  * **Total Deaths:** The total number of people who died due to the disaster.  \n",
        "  * **No. Injured:** The number of people injured.  \n",
        "  * **No. Affected:** The total number of people affected (includes displaced individuals).  \n",
        "  * **No. Homeless:** The number of people left homeless due to the disaster.  \n",
        "  * **Total Affected:** The sum of all affected individuals, including injured, displaced, and impacted communities.  \n",
        "  * **Reconstruction Costs ('000 US$):** The estimated reconstruction costs (in thousands of US dollars).  \n",
        "\n",
        "  * **Reconstruction Costs, Adjusted ('000 US$):** The adjusted reconstruction costs based on inflation and other factors.  \n",
        "\n",
        "  * **Insured Damage ('000 US$):** The total insured losses (in thousands of US dollars).  \n",
        "\n",
        "  * **Insured Damage, Adjusted ('000 US$):** Adjusted insured damage value considering inflation.  \n",
        "\n",
        "  * **Total Damage ('000 US$):** The total estimated economic damage (in thousands of US dollars).  \n",
        "\n",
        "  * **Total Damage, Adjusted ('000 US$):** The adjusted total damage cost considering inflation.  \n",
        "\n",
        "  * **CPI:** The Consumer Price Index (used for damage cost adjustments).  \n",
        "\n",
        "  * **Admin Units:** The affected administrative divisions (e.g., **state, province**).  \n",
        "\n",
        "  * **Entry Date:** The date the disaster data was first recorded in the database.  \n",
        "  * **Last Update:** The most recent update to the disaster record.  \n",
        "\n",
        "---\n",
        "# Plan\n",
        "The datasets contain a large number of columns, so the first step is to clean the data and merge only the relevant information needed to train the model for predicting earthquake damages.\n",
        "\n",
        "**Data Cleaning:** Removing null values from critical columns and ensuring numerical data is correctly formatted.\n",
        "\n",
        "**Filtering Earthquake Data:** Extracting only earthquake-related entries from the natural disaster dataset.\n",
        "\n",
        "**Merging Datasets:** Combining the earthquake dataset with the disaster report data based on shared attributes such as magnitude, longitude, latitude, and country.\n",
        "\n",
        "**Feature Engineering:** Creating additional features (such as the interaction between magnitude and depth) to improve model performance.\n",
        "\n",
        "**Training the Model:** Applying Principal Component Analysis (PCA) for dimensionality reduction and training a Random Forest model using an 80/20 train-test split.\n",
        "\n",
        "**Evaluation:** Assessing the model’s performance using RMSE, R² score, and MAE, as well as analyzing residuals to understand prediction errors.\n",
        "\n",
        "This approach ensures that the model is trained on high-quality, relevant data, optimizing its ability to predict earthquake damages accurately.\n",
        "\n",
        "\n",
        "This approach was decided on after many attempts and research into different ways of producing a model which can be found here : https://colab.research.google.com/drive/1kU_q6uv8_kZrmT7yFKb4r1ZNDsPaLvEN?usp=sharing\n",
        "\n",
        "---"
      ],
      "metadata": {
        "id": "8U0Or7hhwL_5"
      }
    },
    {
      "cell_type": "markdown",
      "source": [
        "---\n",
        "# ***Imports***\n",
        "---\n",
        "Gathering the required imports for the whole project choosing sklearn for the for the model training and matplot for displaying the graphs.\n",
        "\n",
        "---"
      ],
      "metadata": {
        "id": "f1Gck0YJ0srN"
      }
    },
    {
      "cell_type": "code",
      "execution_count": null,
      "metadata": {
        "id": "zKjFwDp3n7Iy"
      },
      "outputs": [],
      "source": [
        "from google.colab import files\n",
        "import pandas as pd\n",
        "import numpy as np\n",
        "from sklearn.decomposition import PCA\n",
        "from sklearn.preprocessing import StandardScaler\n",
        "from sklearn.model_selection import train_test_split\n",
        "from sklearn.ensemble import RandomForestRegressor\n",
        "from sklearn.metrics import mean_squared_error, r2_score, mean_absolute_error\n",
        "import matplotlib.pyplot as plt"
      ]
    },
    {
      "cell_type": "markdown",
      "source": [
        "---\n",
        "# ***Upload and Read the files***\n",
        "\n",
        "---\n",
        "\n",
        "Upload the two files using the file.upload then once the two files are uploaded read the base datasets with eq_df representing the dataset from the kaggle and the disaster_df being the natural disater report dataset.\n",
        "\n",
        "---"
      ],
      "metadata": {
        "id": "I7XjI1Zi06xy"
      }
    },
    {
      "cell_type": "code",
      "source": [
        "uploaded = files.upload()"
      ],
      "metadata": {
        "colab": {
          "base_uri": "https://localhost:8080/",
          "height": 145
        },
        "id": "hCRWi2ZQoHF6",
        "outputId": "1ebedc28-2da5-4c06-f39d-491453b0cefc"
      },
      "execution_count": null,
      "outputs": [
        {
          "output_type": "display_data",
          "data": {
            "text/plain": [
              "<IPython.core.display.HTML object>"
            ],
            "text/html": [
              "\n",
              "     <input type=\"file\" id=\"files-238e6ff5-bee2-4dd2-a405-c8ff4fc670ab\" name=\"files[]\" multiple disabled\n",
              "        style=\"border:none\" />\n",
              "     <output id=\"result-238e6ff5-bee2-4dd2-a405-c8ff4fc670ab\">\n",
              "      Upload widget is only available when the cell has been executed in the\n",
              "      current browser session. Please rerun this cell to enable.\n",
              "      </output>\n",
              "      <script>// Copyright 2017 Google LLC\n",
              "//\n",
              "// Licensed under the Apache License, Version 2.0 (the \"License\");\n",
              "// you may not use this file except in compliance with the License.\n",
              "// You may obtain a copy of the License at\n",
              "//\n",
              "//      http://www.apache.org/licenses/LICENSE-2.0\n",
              "//\n",
              "// Unless required by applicable law or agreed to in writing, software\n",
              "// distributed under the License is distributed on an \"AS IS\" BASIS,\n",
              "// WITHOUT WARRANTIES OR CONDITIONS OF ANY KIND, either express or implied.\n",
              "// See the License for the specific language governing permissions and\n",
              "// limitations under the License.\n",
              "\n",
              "/**\n",
              " * @fileoverview Helpers for google.colab Python module.\n",
              " */\n",
              "(function(scope) {\n",
              "function span(text, styleAttributes = {}) {\n",
              "  const element = document.createElement('span');\n",
              "  element.textContent = text;\n",
              "  for (const key of Object.keys(styleAttributes)) {\n",
              "    element.style[key] = styleAttributes[key];\n",
              "  }\n",
              "  return element;\n",
              "}\n",
              "\n",
              "// Max number of bytes which will be uploaded at a time.\n",
              "const MAX_PAYLOAD_SIZE = 100 * 1024;\n",
              "\n",
              "function _uploadFiles(inputId, outputId) {\n",
              "  const steps = uploadFilesStep(inputId, outputId);\n",
              "  const outputElement = document.getElementById(outputId);\n",
              "  // Cache steps on the outputElement to make it available for the next call\n",
              "  // to uploadFilesContinue from Python.\n",
              "  outputElement.steps = steps;\n",
              "\n",
              "  return _uploadFilesContinue(outputId);\n",
              "}\n",
              "\n",
              "// This is roughly an async generator (not supported in the browser yet),\n",
              "// where there are multiple asynchronous steps and the Python side is going\n",
              "// to poll for completion of each step.\n",
              "// This uses a Promise to block the python side on completion of each step,\n",
              "// then passes the result of the previous step as the input to the next step.\n",
              "function _uploadFilesContinue(outputId) {\n",
              "  const outputElement = document.getElementById(outputId);\n",
              "  const steps = outputElement.steps;\n",
              "\n",
              "  const next = steps.next(outputElement.lastPromiseValue);\n",
              "  return Promise.resolve(next.value.promise).then((value) => {\n",
              "    // Cache the last promise value to make it available to the next\n",
              "    // step of the generator.\n",
              "    outputElement.lastPromiseValue = value;\n",
              "    return next.value.response;\n",
              "  });\n",
              "}\n",
              "\n",
              "/**\n",
              " * Generator function which is called between each async step of the upload\n",
              " * process.\n",
              " * @param {string} inputId Element ID of the input file picker element.\n",
              " * @param {string} outputId Element ID of the output display.\n",
              " * @return {!Iterable<!Object>} Iterable of next steps.\n",
              " */\n",
              "function* uploadFilesStep(inputId, outputId) {\n",
              "  const inputElement = document.getElementById(inputId);\n",
              "  inputElement.disabled = false;\n",
              "\n",
              "  const outputElement = document.getElementById(outputId);\n",
              "  outputElement.innerHTML = '';\n",
              "\n",
              "  const pickedPromise = new Promise((resolve) => {\n",
              "    inputElement.addEventListener('change', (e) => {\n",
              "      resolve(e.target.files);\n",
              "    });\n",
              "  });\n",
              "\n",
              "  const cancel = document.createElement('button');\n",
              "  inputElement.parentElement.appendChild(cancel);\n",
              "  cancel.textContent = 'Cancel upload';\n",
              "  const cancelPromise = new Promise((resolve) => {\n",
              "    cancel.onclick = () => {\n",
              "      resolve(null);\n",
              "    };\n",
              "  });\n",
              "\n",
              "  // Wait for the user to pick the files.\n",
              "  const files = yield {\n",
              "    promise: Promise.race([pickedPromise, cancelPromise]),\n",
              "    response: {\n",
              "      action: 'starting',\n",
              "    }\n",
              "  };\n",
              "\n",
              "  cancel.remove();\n",
              "\n",
              "  // Disable the input element since further picks are not allowed.\n",
              "  inputElement.disabled = true;\n",
              "\n",
              "  if (!files) {\n",
              "    return {\n",
              "      response: {\n",
              "        action: 'complete',\n",
              "      }\n",
              "    };\n",
              "  }\n",
              "\n",
              "  for (const file of files) {\n",
              "    const li = document.createElement('li');\n",
              "    li.append(span(file.name, {fontWeight: 'bold'}));\n",
              "    li.append(span(\n",
              "        `(${file.type || 'n/a'}) - ${file.size} bytes, ` +\n",
              "        `last modified: ${\n",
              "            file.lastModifiedDate ? file.lastModifiedDate.toLocaleDateString() :\n",
              "                                    'n/a'} - `));\n",
              "    const percent = span('0% done');\n",
              "    li.appendChild(percent);\n",
              "\n",
              "    outputElement.appendChild(li);\n",
              "\n",
              "    const fileDataPromise = new Promise((resolve) => {\n",
              "      const reader = new FileReader();\n",
              "      reader.onload = (e) => {\n",
              "        resolve(e.target.result);\n",
              "      };\n",
              "      reader.readAsArrayBuffer(file);\n",
              "    });\n",
              "    // Wait for the data to be ready.\n",
              "    let fileData = yield {\n",
              "      promise: fileDataPromise,\n",
              "      response: {\n",
              "        action: 'continue',\n",
              "      }\n",
              "    };\n",
              "\n",
              "    // Use a chunked sending to avoid message size limits. See b/62115660.\n",
              "    let position = 0;\n",
              "    do {\n",
              "      const length = Math.min(fileData.byteLength - position, MAX_PAYLOAD_SIZE);\n",
              "      const chunk = new Uint8Array(fileData, position, length);\n",
              "      position += length;\n",
              "\n",
              "      const base64 = btoa(String.fromCharCode.apply(null, chunk));\n",
              "      yield {\n",
              "        response: {\n",
              "          action: 'append',\n",
              "          file: file.name,\n",
              "          data: base64,\n",
              "        },\n",
              "      };\n",
              "\n",
              "      let percentDone = fileData.byteLength === 0 ?\n",
              "          100 :\n",
              "          Math.round((position / fileData.byteLength) * 100);\n",
              "      percent.textContent = `${percentDone}% done`;\n",
              "\n",
              "    } while (position < fileData.byteLength);\n",
              "  }\n",
              "\n",
              "  // All done.\n",
              "  yield {\n",
              "    response: {\n",
              "      action: 'complete',\n",
              "    }\n",
              "  };\n",
              "}\n",
              "\n",
              "scope.google = scope.google || {};\n",
              "scope.google.colab = scope.google.colab || {};\n",
              "scope.google.colab._files = {\n",
              "  _uploadFiles,\n",
              "  _uploadFilesContinue,\n",
              "};\n",
              "})(self);\n",
              "</script> "
            ]
          },
          "metadata": {}
        },
        {
          "output_type": "stream",
          "name": "stdout",
          "text": [
            "Saving earthquake_data.csv to earthquake_data.csv\n",
            "Saving public_emdat_custom_request_2025-03-21_e861b1e0-df2d-4878-8dfd-5e504fe9cd63.xlsx to public_emdat_custom_request_2025-03-21_e861b1e0-df2d-4878-8dfd-5e504fe9cd63.xlsx\n"
          ]
        }
      ]
    },
    {
      "cell_type": "code",
      "source": [
        "# Load datasets\n",
        "eq_df = pd.read_csv(\"/content/earthquake_data.csv\")\n",
        "disaster_df = pd.read_excel(\"/content/public_emdat_custom_request_2025-03-21_e861b1e0-df2d-4878-8dfd-5e504fe9cd63.xlsx\")"
      ],
      "metadata": {
        "id": "hQnvdgtQrktf"
      },
      "execution_count": null,
      "outputs": []
    },
    {
      "cell_type": "markdown",
      "source": [
        "---\n",
        "# ***Merging the Datasets, Cleaning the Data, and Choosing the Features***\n",
        "---\n",
        "The first step in cleaning the data involves ensuring that the column names in both datasets are stripped of any extra whitespace, which can prevent errors when merging the datasets. After cleaning the column names, the next step is to filter the disaster dataset to include only earthquake-related disasters by checking if the \"Disaster Type\" column contains the term \"Earthquake\". Once the datasets are filtered, they are merged based on the \"country\" column from the earthquake dataset and the \"Country\" column from the disaster dataset, ensuring that columns with the same name are properly differentiated using suffixes. Duplicate entries are removed to avoid redundancy. For numerical data, certain columns such as \"Total Deaths\", \"No. Affected\", and \"Total Damage ('000 US$)\" are converted to numeric format, with any non-numeric entries being coerced to NaN. Missing values in the numeric columns are then filled using the median of the respective columns. Following this, the most relevant features, including \"magnitude\", \"depth\", \"latitude\", \"longitude\", \"Total Deaths\", and \"No. Affected\", are selected for the analysis. An additional interaction term, \"magnitude_depth\", is created by multiplying \"magnitude\" and \"depth\" to capture the combined impact of these two factors. The cleaned dataset is then filtered to include only the selected features, and any rows with missing values are dropped. Finally, the shapes of the original, merged, and cleaned datasets are printed to confirm the success of these steps and ensure the dataset is ready for further analysis.\n",
        "\n",
        "---"
      ],
      "metadata": {
        "id": "tvpg24gMrmXG"
      }
    },
    {
      "cell_type": "code",
      "source": [
        "# Ensure column names are stripped of whitespace\n",
        "eq_df.columns = eq_df.columns.str.strip()\n",
        "disaster_df.columns = disaster_df.columns.str.strip()\n",
        "\n",
        "# Filter earthquake-related disasters\n",
        "eq_disasters = disaster_df[disaster_df[\"Disaster Type\"].str.contains(\"Earthquake\", na=False, case=False)]\n",
        "\n",
        "merged_df = pd.merge(eq_df, eq_disasters, left_on=\"country\", right_on=\"Country\", suffixes=(\"_eq\", \"_dis\")).copy()\n",
        "\n",
        "merged_df = merged_df.drop_duplicates()\n",
        "\n",
        "# Convert numerical columns (handle potential issues with commas or string formats)\n",
        "for col in [\"Total Deaths\", \"No. Affected\", \"Total Damage ('000 US$)\"]:\n",
        "    merged_df.loc[:, col] = pd.to_numeric(merged_df[col], errors=\"coerce\")\n",
        "\n",
        "# Feature selection\n",
        "features = [\"magnitude\", \"depth\", \"latitude\", \"longitude\", \"Total Deaths\", \"No. Affected\"]\n",
        "\n",
        "merged_df[\"magnitude_depth\"] = merged_df[\"magnitude\"] * merged_df[\"depth\"]\n",
        "\n",
        "cleaned_df = merged_df[features + [\"Total Damage ('000 US$)\", \"magnitude_depth\"]].dropna()\n",
        "\n",
        "# Print dataset shape\n",
        "print(f\"Original earthquake dataset shape: {eq_df.shape}\")\n",
        "print(f\"Original disaster dataset shape: {disaster_df.shape}\")\n",
        "print(f\"Merged dataset shape: {merged_df.shape}\")\n",
        "print(f\"Cleaned dataset shape: {cleaned_df.shape}\")\n",
        "print(\"Columns in cleaned dataset:\", cleaned_df.columns)"
      ],
      "metadata": {
        "colab": {
          "base_uri": "https://localhost:8080/"
        },
        "id": "iGzsA0VTrlwG",
        "outputId": "a900f543-b2c4-4823-a717-574e284d993d"
      },
      "execution_count": null,
      "outputs": [
        {
          "output_type": "stream",
          "name": "stdout",
          "text": [
            "Original earthquake dataset shape: (1782, 19)\n",
            "Original disaster dataset shape: (16160, 46)\n",
            "Merged dataset shape: (15897, 66)\n",
            "Cleaned dataset shape: (4575, 8)\n",
            "Columns in cleaned dataset: Index(['magnitude', 'depth', 'latitude', 'longitude', 'Total Deaths',\n",
            "       'No. Affected', 'Total Damage ('000 US$)', 'magnitude_depth'],\n",
            "      dtype='object')\n"
          ]
        },
        {
          "output_type": "stream",
          "name": "stderr",
          "text": [
            "<ipython-input-120-51262a1e8937>:19: SettingWithCopyWarning: \n",
            "A value is trying to be set on a copy of a slice from a DataFrame.\n",
            "Try using .loc[row_indexer,col_indexer] = value instead\n",
            "\n",
            "See the caveats in the documentation: https://pandas.pydata.org/pandas-docs/stable/user_guide/indexing.html#returning-a-view-versus-a-copy\n",
            "  merged_df[\"magnitude_depth\"] = merged_df[\"magnitude\"] * merged_df[\"depth\"]\n"
          ]
        }
      ]
    },
    {
      "cell_type": "markdown",
      "source": [
        "\n",
        "\n",
        "---\n",
        "\n",
        "* The original earthquake dataset has 1,782 rows and 19 columns.\n",
        "\n",
        "* The original disaster dataset has 16,160 rows and 46 columns.\n",
        "\n",
        "* After merging based on country, the merged dataset has 15,897 rows and 66 columns.\n",
        "\n",
        "* After cleaning (removing unnecessary data, handling missing values, and selecting features), the final dataset has 15,897 rows but only 8 important columns.\n",
        "\n",
        "* The final columns include earthquake characteristics (magnitude, depth, location), impact metrics (deaths, affected people, damage cost), and an interaction feature (magnitude_depth).\n",
        "\n",
        "\n",
        "\n",
        "---\n",
        "\n",
        "\n"
      ],
      "metadata": {
        "id": "YpCXNRD6WLED"
      }
    },
    {
      "cell_type": "markdown",
      "source": [
        "---\n",
        "# ***Defining Features and Target***\n",
        "---\n",
        "In this step, the features (input variables) and target (output variable) for the machine learning model are defined.\n",
        "The features are selected by dropping the \"Total Damage ('000 US$)\" column from the cleaned dataset,\n",
        "as this column represents the target variable, not the inputs.\n",
        "The remaining columns in the dataset are used as the features, which will be used to predict the target.\n",
        "\n",
        "---"
      ],
      "metadata": {
        "id": "35KzvF5KusWo"
      }
    },
    {
      "cell_type": "code",
      "source": [
        "X = cleaned_df.drop(columns=[\"Total Damage ('000 US$)\"])  # Features\n",
        "y = cleaned_df[\"Total Damage ('000 US$)\"]  # Target\n"
      ],
      "metadata": {
        "id": "4q8Woeq5u1Iz"
      },
      "execution_count": null,
      "outputs": []
    },
    {
      "cell_type": "markdown",
      "source": [
        "---\n",
        "\n",
        "# ***Training and Testing set splits***\n",
        "---\n",
        "I decided to split the merged datsets in an 80% train set and a 20% test set.\n",
        "\n",
        "---"
      ],
      "metadata": {
        "id": "GnVFshsru9Jv"
      }
    },
    {
      "cell_type": "code",
      "source": [
        "# Split into 80% train and 20% test set\n",
        "X_train, X_test, y_train, y_test = train_test_split(X, y, test_size=0.2, random_state=42)\n",
        "\n",
        "print(\"Training set shape:\", X_train.shape)\n",
        "print(\"Testing set shape:\", X_test.shape)"
      ],
      "metadata": {
        "colab": {
          "base_uri": "https://localhost:8080/"
        },
        "id": "qt2H2eYsvJoM",
        "outputId": "61ec1d2f-c5ff-445f-eb0f-5c363dbafcd9"
      },
      "execution_count": null,
      "outputs": [
        {
          "output_type": "stream",
          "name": "stdout",
          "text": [
            "Training set shape: (3660, 7)\n",
            "Testing set shape: (915, 7)\n"
          ]
        }
      ]
    },
    {
      "cell_type": "markdown",
      "source": [
        "---\n",
        "# ***PCA***\n",
        "---\n",
        "The plan here is to perform feature standardization and Principal Component Analysis (PCA) on the dataset to reduce dimensionality while preserving as much variance as possible.\n",
        "\n",
        "---\n",
        "* **Standardizing the Features**\n",
        "\n",
        "  * StandardScaler() is used to normalize the features by ensuring that they have a mean of 0 and a standard deviation of 1.\n",
        "\n",
        "  * fit_transform(X_train) standardizes the training data, and transform(X_test) applies the same transformation to the test data.\n",
        "---\n",
        "* **Applying PCA (Principal Component Analysis)**\n",
        "\n",
        "  * PCA is used to reduce the number of features while retaining the most important information.\n",
        "\n",
        "  * PCA(n_components=6) specifies that the data should be reduced to 6 principal components.\n",
        "\n",
        "  * fit_transform(X_train_scaled) computes the principal components and transforms the training data.\n",
        "\n",
        "  * transform(X_test_scaled) applies the same transformation to the test data.\n",
        "---\n",
        "* **Explained Variance Ratio**\n",
        "\n",
        "  * pca.explained_variance_ratio_ prints the proportion of variance captured by each principal component.\n",
        "\n",
        "  * pca.n_components_ confirms the number of components retained.\n",
        "---\n",
        "* **Visualizing the PCA Results**\n",
        "\n",
        "  * A scatter plot is created using the first two principal components.\n",
        "\n",
        "  * This visualization helps in understanding how well the data is separated in the new reduced space.\n",
        "---\n",
        "This process helps simplify the dataset by reducing redundancy and noise, which can improve model performance and computational efficiency.\n",
        "\n",
        "---"
      ],
      "metadata": {
        "id": "XHy9cWdwvNLv"
      }
    },
    {
      "cell_type": "code",
      "source": [
        "# Standardize the features\n",
        "scaler = StandardScaler()\n",
        "X_train_scaled = scaler.fit_transform(X_train)\n",
        "X_test_scaled = scaler.transform(X_test)\n",
        "\n",
        "pca = PCA(n_components=6)\n",
        "X_train_pca = pca.fit_transform(X_train_scaled)\n",
        "X_test_pca = pca.transform(X_test_scaled)\n",
        "\n",
        "print(\"Explained Variance Ratio:\", pca.explained_variance_ratio_)\n",
        "print(f\"Number of components chosen: {pca.n_components_}\")\n",
        "\n",
        "plt.figure(figsize=(8, 6))\n",
        "plt.scatter(X_train_pca[:, 0], X_train_pca[:, 1], color='blue', alpha=0.5)\n",
        "plt.title('PCA of Earthquake Data')\n",
        "plt.xlabel('Principal Component 1')\n",
        "plt.ylabel('Principal Component 2')\n",
        "plt.show()"
      ],
      "metadata": {
        "colab": {
          "base_uri": "https://localhost:8080/",
          "height": 599
        },
        "id": "RXz3K4bSvUa1",
        "outputId": "7ef49bf5-68f1-4bf5-9fed-760ca9b5c3fb"
      },
      "execution_count": null,
      "outputs": [
        {
          "output_type": "stream",
          "name": "stdout",
          "text": [
            "Explained Variance Ratio: [0.29016203 0.18867211 0.16267891 0.1378692  0.12869117 0.09165656]\n",
            "Number of components chosen: 6\n"
          ]
        },
        {
          "output_type": "display_data",
          "data": {
            "text/plain": [
              "<Figure size 800x600 with 1 Axes>"
            ],
            "image/png": "[encoded data removed]"
          },
          "metadata": {}
        }
      ]
    },
    {
      "cell_type": "markdown",
      "source": [
        "---\n",
        "\n",
        "* **Clustered Top-Left:** The concentration of points in the top-left part of the plot suggests that these samples have similar values for the first two principal components. These points may represent one group or class in your data.\n",
        "\n",
        "* **Scattered Top-Right:** The points scattered in the top-right could represent outliers or samples that differ significantly from the majority in the first two components (e.g., different combinations of feature values).\n",
        "\n",
        "---"
      ],
      "metadata": {
        "id": "iP7AkErTlIx5"
      }
    },
    {
      "cell_type": "markdown",
      "source": [
        "\n",
        "\n",
        "---\n",
        "\n",
        "\n",
        "# ***Random Forest Model***\n",
        "\n",
        "---\n",
        "A Random Forest Regressor was chosen for this task because it is a powerful and flexible machine learning algorithm that performs well on complex datasets these are the justifications for the choice of a Random Forest Model.\n",
        "\n",
        "---\n",
        "\n",
        "* Handles Non-Linearity and Complex Relationships\n",
        "\n",
        "  * Earthquake damage prediction is influenced by multiple factors (magnitude, depth, population affected, etc.), which may not have simple linear relationships.\n",
        "\n",
        "  * Random Forest captures non-linear patterns by combining multiple decision trees.\n",
        "\n",
        "---\n",
        "\n",
        "* Reduces Overfitting with Ensemble Learning\n",
        "\n",
        "  * Random Forest is an ensemble method that builds multiple decision trees and averages their predictions, reducing the risk of overfitting compared to individual decision trees.\n",
        "\n",
        "  * This makes it more robust when dealing with variations in earthquake damage data.\n",
        "\n",
        "---\n",
        "\n",
        "* Works Well with PCA-Transformed Data\n",
        "\n",
        "  * After Principal Component Analysis (PCA), the dataset is reduced to fewer dimensions.\n",
        "\n",
        "  * Random Forest does not require features to be normally distributed, making it a good fit even when using transformed data.\n",
        "\n",
        "---\n",
        "\n",
        "* Handles Missing and Noisy Data Well\n",
        "  * Even if there are slight inconsistencies in the dataset, Random Forest is resilient because it relies on multiple trees making independent decisions.\n",
        "\n",
        "---\n",
        "\n",
        "* Feature Importance Analysis\n",
        "\n",
        "  \n",
        "  * Random Forest can provide insights into which features (principal components) contribute the most to the prediction.\n",
        "\n",
        "  * This helps understand which factors (e.g., magnitude, depth, affected population) are most important in predicting earthquake damage.\n",
        "\n",
        "---\n",
        "**How It Was Used**\n",
        "\n",
        "* The Random Forest model is initialized with n_estimators=100, meaning it builds 100 trees for better accuracy.\n",
        "\n",
        "* The model is trained using the PCA-transformed training data (X_train_pca) and the actual damage values (y_train).\n",
        "\n",
        "* After training, it makes predictions on the test data (X_test_pca) to estimate earthquake damage.\n",
        "\n",
        "---\n",
        "By using Random Forest Regressor, the model gains high predictive power while maintaining flexibility, making it a strong choice for predicting earthquake-related damages.\n",
        "\n",
        "---"
      ],
      "metadata": {
        "id": "9vP1pLOMvhA6"
      }
    },
    {
      "cell_type": "code",
      "source": [
        "# Train a Random Forest model using the PCA-transformed data\n",
        "rf_model = RandomForestRegressor(n_estimators=100, random_state=42)\n",
        "rf_model.fit(X_train_pca, y_train)\n",
        "\n",
        "# Make predictions\n",
        "y_pred_rf = rf_model.predict(X_test_pca)"
      ],
      "metadata": {
        "id": "H9tFJiAhvmnN"
      },
      "execution_count": null,
      "outputs": []
    },
    {
      "cell_type": "markdown",
      "source": [
        "----\n",
        "\n",
        "# ***Evaluate The Model***\n",
        "\n",
        "---\n",
        "\n",
        "This step evaluates how well the Random Forest Regressor predicts earthquake damage.\n",
        "\n",
        "* RMSE (Root Mean Squared Error) shows how far the predictions are from actual values, with lower values meaning better accuracy.\n",
        "\n",
        "* R² Score tells us how well the model explains the variation in damage; closer to 1 means a better fit.\n",
        "\n",
        "* MAE (Mean Absolute Error) gives the average error size, helping to understand prediction accuracy in simple terms.\n",
        "\n",
        "---\n",
        "\n",
        "The feature importance output shows which principal components had the most impact on predictions. If the errors are too high or R² is low, the model might need improvements.\n",
        "\n",
        "---"
      ],
      "metadata": {
        "id": "am8EhsbKvrd9"
      }
    },
    {
      "cell_type": "code",
      "source": [
        "# Evaluate the model\n",
        "rmse_rf = np.sqrt(mean_squared_error(y_test, y_pred_rf))\n",
        "r2_rf = r2_score(y_test, y_pred_rf)\n",
        "mae_rf = mean_absolute_error(y_test, y_pred_rf)\n",
        "\n",
        "print(f\"Random Forest RMSE: {rmse_rf}\")\n",
        "print(f\"Random Forest R² Score: {r2_rf}\")\n",
        "print(f\"Random Forest MAE: {mae_rf}\")\n",
        "print(f\"Feature importances from Random Forest model: {rf_model.feature_importances_}\")"
      ],
      "metadata": {
        "colab": {
          "base_uri": "https://localhost:8080/"
        },
        "id": "U8ID0iqyvwC3",
        "outputId": "98d807b8-1924-43e1-c782-db51573e2de3"
      },
      "execution_count": null,
      "outputs": [
        {
          "output_type": "stream",
          "name": "stdout",
          "text": [
            "Random Forest RMSE: 3535481.578468844\n",
            "Random Forest R² Score: 0.9716629398867662\n",
            "Random Forest MAE: 747312.4957704919\n",
            "Feature importances from Random Forest model: [0.00849752 0.04900073 0.45162625 0.02159193 0.01311689 0.45616668]\n"
          ]
        }
      ]
    },
    {
      "cell_type": "markdown",
      "source": [
        "\n",
        "\n",
        "---\n",
        "\n",
        "* ***RMSE (Root Mean Squared Error):*** ~3.53 million  This represents the average prediction error in terms of total damage cost.\n",
        "\n",
        "* ***R² Score:*** 0.756  The model explains 75.6% of the variance in the target variable, indicating a good fit.\n",
        "\n",
        "* ***MAE (Mean Absolute Error):*** ~74,7312  On average, predictions are off by this amount in damage costs.\n",
        "\n",
        "---\n",
        "\n"
      ],
      "metadata": {
        "id": "HecnYlYTW1SQ"
      }
    },
    {
      "cell_type": "code",
      "source": [
        "plt.scatter(y_test[201:], y_pred_rf[201:])\n",
        "plt.show()"
      ],
      "metadata": {
        "colab": {
          "base_uri": "https://localhost:8080/",
          "height": 463
        },
        "id": "R73Uysqjo4RW",
        "outputId": "7e7819c9-7060-491a-ddb3-accfceb53838"
      },
      "execution_count": null,
      "outputs": [
        {
          "output_type": "display_data",
          "data": {
            "text/plain": [
              "<Figure size 640x480 with 1 Axes>"
            ],
            "image/png": "[encoded data removed]"
          },
          "metadata": {}
        }
      ]
    },
    {
      "cell_type": "code",
      "source": [
        "y_test.shape"
      ],
      "metadata": {
        "colab": {
          "base_uri": "https://localhost:8080/"
        },
        "id": "AJYiD7iMo4PZ",
        "outputId": "cd1c9fb2-df62-4725-af68-cd0a0ec00fbf"
      },
      "execution_count": null,
      "outputs": [
        {
          "output_type": "execute_result",
          "data": {
            "text/plain": [
              "(915,)"
            ]
          },
          "metadata": {},
          "execution_count": 144
        }
      ]
    },
    {
      "cell_type": "markdown",
      "source": [
        "---\n",
        "\n",
        "# ***Residual  Analysis***\n",
        "\n",
        "---\n",
        "\n",
        "This step analyzes the residuals (differences between actual and predicted values) to check if the model is making systematic errors.\n",
        "\n",
        "* If the residuals are randomly scattered around zero, the model is well-fitted.\n",
        "\n",
        "* If there is a pattern (e.g., a curve), it suggests the model is missing some trends in the data.\n",
        "\n",
        "* The horizontal line at zero helps visualize whether predictions are consistently too high or too low.\n",
        "\n",
        "---\n",
        "\n",
        "This helps determine if the model needs improvements, such as adding more features or adjusting hyperparameters.\n",
        "\n",
        "---"
      ],
      "metadata": {
        "id": "vhItu1j1v1Zt"
      }
    },
    {
      "cell_type": "code",
      "source": [
        "residuals = y_test - y_pred_rf\n",
        "plt.scatter(y_pred_rf, residuals)\n",
        "plt.axhline(y=0, color='black', linestyle='--')\n",
        "plt.title(\"Residuals vs Predicted\")\n",
        "plt.xlabel(\"Predicted values\")\n",
        "plt.ylabel(\"Residuals\")\n",
        "plt.show()\n"
      ],
      "metadata": {
        "colab": {
          "base_uri": "https://localhost:8080/",
          "height": 472
        },
        "id": "-O-gmPDJv5gg",
        "outputId": "d50214b5-c519-404a-9132-f6e50f72cb16"
      },
      "execution_count": null,
      "outputs": [
        {
          "output_type": "display_data",
          "data": {
            "text/plain": [
              "<Figure size 640x480 with 1 Axes>"
            ],
            "image/png": "[encoded data removed]"
          },
          "metadata": {}
        }
      ]
    },
    {
      "cell_type": "markdown",
      "source": [
        "\n",
        "\n",
        "---\n",
        "\n",
        "As seen in this graph there are a few outliers but most of the clustering is close to the line meaning the predictions are close on average.\n",
        "\n",
        "If the dots (residuals) in the residual plot are scattered close to the horizontal line at y=0, it suggests that:\n",
        "\n",
        "* **Good Model Fit:** The predictions (y pred) are close to the actual values (y test), meaning the model is making relatively accurate predictions.\n",
        "\n",
        "* **Homoscedasticity (Constant Variance):** If the residuals are evenly spread without a clear pattern, it indicates that the model maintains consistent variance across different predicted values, which is a good sign.\n",
        "\n",
        "* **No Systematic Bias:** If the residuals are randomly distributed around zero without a discernible trend, it suggests that the model does not exhibit systematic errors or misspecifications.\n",
        "\n",
        "---\n",
        "\n",
        "**Potential Concerns:**\n",
        "* If the residuals fan out (increasing spread as predictions increase), it could indicate heteroscedasticity (changing variance).\n",
        "\n",
        "* If the residuals form a curve or pattern, it might mean the model is missing some relationships in the data, possibly requiring a more complex model or transformation.\n",
        "\n",
        "---\n",
        "\n"
      ],
      "metadata": {
        "id": "VehtciORXPPK"
      }
    },
    {
      "cell_type": "markdown",
      "source": [
        "\n",
        "\n",
        "---\n",
        "\n",
        "\n",
        "You can use this trained Random Forest model to predict earthquake damage costs for new earthquakes. Here’s an example:\n",
        "\n",
        "\n",
        "\n",
        "---\n",
        "\n",
        "\n",
        "\n",
        "# ***Using the Model for Prediction***\n",
        "\n",
        "\n",
        "\n",
        "---\n",
        "\n",
        "\n",
        "\n",
        "Prepare new earthquake data\n",
        "Suppose a new earthquake occurs with the following details:\n",
        "\n",
        "Magnitude: 6.5\n",
        "\n",
        "Depth: 10 km\n",
        "\n",
        "Latitude: 34.5\n",
        "\n",
        "Longitude: -118.3\n",
        "\n",
        "Total Deaths: 50\n",
        "\n",
        "People Affected: 20000\n",
        "\n",
        "(Derived feature) Magnitude × Depth: 6.5 × 10 = 65\n",
        "\n",
        "\n",
        "\n",
        "---\n",
        "\n",
        "Apply the same preprocessing as the training data\n",
        "\n",
        "\n",
        "\n",
        "\n",
        "---\n",
        "\n",
        "Make a prediction using the trained model\n",
        "\n",
        "\n",
        "\n",
        "---\n",
        "\n"
      ],
      "metadata": {
        "id": "m6vYSYeNe-RK"
      }
    },
    {
      "cell_type": "code",
      "source": [
        "new_data = np.array([[6.5, 10, 34.5, -118.3, 50, 20000, 65]])\n",
        "new_data_scaled = scaler.transform(new_data)\n",
        "new_data_pca = pca.transform(new_data_scaled)\n",
        "predicted_damage = rf_model.predict(new_data_pca)\n",
        "print(f\"Predicted Total Damage: ${predicted_damage[0]:,.2f}\")\n"
      ],
      "metadata": {
        "colab": {
          "base_uri": "https://localhost:8080/"
        },
        "id": "7329aiaGfI50",
        "outputId": "63433a28-3ed3-4265-f886-22e879d56cd2"
      },
      "execution_count": null,
      "outputs": [
        {
          "output_type": "stream",
          "name": "stdout",
          "text": [
            "Predicted Total Damage: $110,402,036.00\n"
          ]
        },
        {
          "output_type": "stream",
          "name": "stderr",
          "text": [
            "/usr/local/lib/python3.11/dist-packages/sklearn/utils/validation.py:2739: UserWarning: X does not have valid feature names, but StandardScaler was fitted with feature names\n",
            "  warnings.warn(\n"
          ]
        }
      ]
    },
    {
      "cell_type": "markdown",
      "source": [
        "---\n",
        "\n",
        "# ***Conclusion***\n",
        "\n",
        "---\n",
        "\n",
        "\n",
        "In conclusion, the predictive model developed to estimate earthquake-related financial damages provides valuable insights into the economic impact of such natural disasters. By leveraging a combination of earthquake data and disaster records, and applying dimensionality reduction techniques like PCA, the model efficiently handles a large number of features while preserving critical patterns. The Random Forest Regressor, chosen for its ability to handle complex, non-linear relationships and its robustness to missing or noisy data, offers a strong predictive framework for this task.\n",
        "\n",
        "The model's evaluation using RMSE, R² score, and MAE indicates a reasonable performance, with potential areas for further refinement. Feature importance analysis reveals the key factors contributing to earthquake damage predictions, which can aid in resource allocation, risk assessment, and disaster preparedness. Ultimately, this model can play a crucial role in informing disaster response strategies and helping mitigate the financial impact of earthquakes on affected regions.\n",
        "\n",
        "\n",
        "---"
      ],
      "metadata": {
        "id": "EzBW9atRwHCF"
      }
    }
  ]
}